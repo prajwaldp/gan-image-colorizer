{
  "nbformat": 4,
  "nbformat_minor": 0,
  "metadata": {
    "colab": {
      "name": "ReLU CNN.ipynb",
      "provenance": [],
      "collapsed_sections": [],
      "machine_shape": "hm"
    },
    "kernelspec": {
      "name": "python3",
      "display_name": "Python 3"
    },
    "accelerator": "GPU"
  },
  "cells": [
    {
      "cell_type": "code",
      "metadata": {
        "id": "AM7E0QF7vTKm",
        "colab_type": "code",
        "colab": {}
      },
      "source": [
        "import numpy as np\n",
        "import tensorflow as tf\n",
        "%matplotlib inline \n",
        "import matplotlib.pyplot as plt\n",
        "from tensorflow.keras.callbacks import TensorBoard, ModelCheckpoint\n",
        "from tensorflow.keras.datasets import cifar10\n",
        "from tensorflow.keras.layers import InputLayer, Conv2D, UpSampling2D,BatchNormalization,Dense\n",
        "from tensorflow.keras.models import Sequential\n",
        "from tensorflow.keras.preprocessing.image import ImageDataGenerator, load_img, img_to_array\n",
        "from tensorflow.keras.callbacks import ReduceLROnPlateau\n",
        "from skimage.color import rgb2lab, lab2rgb\n",
        "import os\n",
        "import sys\n",
        "import cv2\n",
        "\n",
        "%load_ext tensorboard"
      ],
      "execution_count": 0,
      "outputs": []
    },
    {
      "cell_type": "code",
      "metadata": {
        "id": "A4FWrda7LlrS",
        "colab_type": "code",
        "colab": {}
      },
      "source": [
        "# Hyper-parameters\n",
        "EPOCHS = 25\n",
        "BATCH_SIZE = 16\n",
        "IMAGE_SIZE = 32"
      ],
      "execution_count": 0,
      "outputs": []
    },
    {
      "cell_type": "code",
      "metadata": {
        "id": "s790tGefvXXu",
        "colab_type": "code",
        "colab": {}
      },
      "source": [
        "(train_images, _), (test_images, _) = cifar10.load_data()\n",
        "datagen = ImageDataGenerator(shear_range=0.2, zoom_range=0.2,\n",
        "                             rotation_range=20, horizontal_flip=True)\n",
        "\n",
        "\n",
        "def generate_dataset(images, debug=False):\n",
        "    X = []\n",
        "    Y = []\n",
        "\n",
        "    for i in images:\n",
        "        lab_image_array = rgb2lab(i / 255)\n",
        "        x = lab_image_array[:, :, 0]\n",
        "        y = lab_image_array[:, :, 1:]\n",
        "        y /= 128  # normalize\n",
        "        \n",
        "        if debug:\n",
        "            fig = plt.figure()\n",
        "            fig.add_subplot(1, 2, 1)\n",
        "            plt.imshow(i / 255)\n",
        "\n",
        "            fig.add_subplot(1, 2, 2)\n",
        "            plt.imshow(lab2rgb(np.dstack((x, y * 128))))\n",
        "            plt.show()\n",
        "\n",
        "        X.append(x.reshape(IMAGE_SIZE, IMAGE_SIZE, 1))\n",
        "        Y.append(y)\n",
        "\n",
        "    X = np.array(X)\n",
        "    Y = np.array(Y)\n",
        "\n",
        "    return X, Y\n",
        "\n",
        "\n",
        "# X_train, Y_train = generate_dataset(train_images)\n",
        "X_test, Y_test = generate_dataset(test_images)"
      ],
      "execution_count": 0,
      "outputs": []
    },
    {
      "cell_type": "code",
      "metadata": {
        "id": "_JiBt4cIvjoy",
        "colab_type": "code",
        "colab": {}
      },
      "source": [
        "model = Sequential()\n",
        "model.add(InputLayer(input_shape=(32, 32, 1)))\n",
        "model.add(Conv2D(8, (3, 3), activation='relu', padding='same', strides=2))\n",
        "model.add(Conv2D(8, (3, 3), activation='relu', padding='same'))\n",
        "model.add(Conv2D(16, (3, 3), activation='relu', padding='same'))\n",
        "model.add(Conv2D(16, (3, 3), activation='relu', padding='same', strides=2))\n",
        "model.add(Conv2D(32, (3, 3), activation='relu', padding='same'))\n",
        "model.add(Conv2D(32, (3, 3), activation='relu', padding='same', strides=2))\n",
        "model.add(UpSampling2D((2, 2)))\n",
        "model.add(Conv2D(32, (3, 3), activation='relu', padding='same'))\n",
        "model.add(UpSampling2D((2, 2)))\n",
        "model.add(Conv2D(16, (3, 3), activation='relu', padding='same'))\n",
        "model.add(UpSampling2D((2, 2)))\n",
        "model.add(Conv2D(2, (3, 3), activation='tanh', padding='same'))\n",
        "model.compile(optimizer='rmsprop',loss='mse')\n",
        "\n",
        "tensorboard = TensorBoard(log_dir='logs/run')\n",
        "reduce_lr = ReduceLROnPlateau(monitor='val_loss', factor=0.2,\n",
        "                              patience=2, min_lr=0.00001)"
      ],
      "execution_count": 0,
      "outputs": []
    },
    {
      "cell_type": "code",
      "metadata": {
        "id": "kLTtfsZ4EmiL",
        "colab_type": "code",
        "colab": {}
      },
      "source": [
        "def train_generator(batch_size):\n",
        "    for batch in datagen.flow(train_images, batch_size=batch_size, shuffle=False):\n",
        "        X_batch, Y_batch = generate_dataset(batch)\n",
        "        yield (X_batch, Y_batch)"
      ],
      "execution_count": 0,
      "outputs": []
    },
    {
      "cell_type": "code",
      "metadata": {
        "id": "AUmuEKiYHpXz",
        "colab_type": "code",
        "colab": {}
      },
      "source": [
        "checkpoint_path = \"/content/drive/My Drive/Colab Notebooks/colorize/model-checkpoints/cp.ckpt\"\n",
        "checkpoint_dir = os.path.dirname(checkpoint_path)\n",
        "\n",
        "cp_callback = ModelCheckpoint(filepath=checkpoint_path,\n",
        "                              save_weights_only=True, verbose=0)"
      ],
      "execution_count": 0,
      "outputs": []
    },
    {
      "cell_type": "code",
      "metadata": {
        "id": "tmTtL9wldMEJ",
        "colab_type": "code",
        "colab": {}
      },
      "source": [
        "model.fit(train_generator(BATCH_SIZE), callbacks=[tensorboard, cp_callback,reduce_lr],\n",
        "          epochs=EPOCHS, steps_per_epoch=len(train_images) // BATCH_SIZE,\n",
        "          validation_data=(X_test, Y_test))"
      ],
      "execution_count": 0,
      "outputs": []
    },
    {
      "cell_type": "code",
      "metadata": {
        "id": "Rh6p6FsxWObg",
        "colab_type": "code",
        "colab": {}
      },
      "source": [
        "latest = tf.train.latest_checkpoint(checkpoint_dir)\n",
        "model.load_weights(latest)"
      ],
      "execution_count": 0,
      "outputs": []
    },
    {
      "cell_type": "code",
      "metadata": {
        "id": "kR-eYMl_YPuQ",
        "colab_type": "code",
        "colab": {}
      },
      "source": [
        "%tensorboard --logdir logs/run/"
      ],
      "execution_count": 0,
      "outputs": []
    },
    {
      "cell_type": "code",
      "metadata": {
        "id": "zNePv0Ocoe91",
        "colab_type": "code",
        "colab": {}
      },
      "source": [
        "interested_ids = [23, 24, 30, 36, 40, 45, 48, 54, 56, 60, 65, 72, 73, 89, 130,\n",
        "                  133, 138, 171, 179, 207, 219, 83, 97, 192, 81, 123, 246]\n",
        "\n",
        "Y_hat = model.predict(X_test[:250])\n",
        "total_count = len(Y_hat)\n"
      ],
      "execution_count": 0,
      "outputs": []
    },
    {
      "cell_type": "code",
      "metadata": {
        "id": "KrCt50q0O9d2",
        "colab_type": "code",
        "colab": {}
      },
      "source": [
        "for idx, (x, y, y_hat) in enumerate(zip(X_test[:250], Y_test[:250], Y_hat)):\n",
        "\n",
        "    if idx not in interested_ids:\n",
        "        continue\n",
        "\n",
        "    # Original RGB image\n",
        "    orig_lab = np.dstack((x, y * 128))\n",
        "    orig_rgb = lab2rgb(orig_lab)\n",
        "\n",
        "    # Grayscale version of the original image\n",
        "    grayscale_lab = np.dstack((x, np.zeros((IMAGE_SIZE, IMAGE_SIZE, 2))))\n",
        "    grayscale_rgb = lab2rgb(grayscale_lab)\n",
        "\n",
        "    # Colorized image\n",
        "    predicted_lab = np.dstack((x, y_hat * 128))\n",
        "    predicted_rgb = lab2rgb(predicted_lab)\n",
        "    plt.figure(figsize=(32, 32), dpi=1)\n",
        "    plt.margins(x=0, y=0)\n",
        "    plt.axis('off')\n",
        "    plt.imshow(grayscale_rgb)\n",
        "    plt.savefig(os.path.join(\"/content/drive/My Drive/Colab Notebooks/colorize/\", 'results', '{}-bw.png'.format(idx)), dpi=1)\n",
        "\n",
        "    plt.axis('off')\n",
        "    plt.imshow(orig_rgb)\n",
        "    plt.savefig(os.path.join(\"/content/drive/My Drive/Colab Notebooks/colorize/\", 'results', '{}-gt.png'.format(idx)), dpi=1)\n",
        "\n",
        "    plt.axis('off')\n",
        "    plt.imshow(predicted_rgb)\n",
        "    plt.savefig(os.path.join(\"/content/drive/My Drive/Colab Notebooks/colorize/\", 'results', '{}-tanhcnn.png'.format(idx)), dpi=1)\n",
        "\n",
        "    sys.stdout.flush()\n",
        "    sys.stdout.write('\\r{} / {}'.format(idx + 1, total_count))\n"
      ],
      "execution_count": 0,
      "outputs": []
    }
  ]
}